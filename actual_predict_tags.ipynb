{
 "cells": [
  {
   "cell_type": "code",
   "execution_count": 1,
   "metadata": {
    "collapsed": true
   },
   "outputs": [],
   "source": [
    "import numpy as np\n",
    "from sklearn.pipeline import Pipeline\n",
    "from sklearn.feature_extraction.text import CountVectorizer\n",
    "from sklearn.svm import LinearSVC\n",
    "from sklearn.feature_extraction.text import TfidfTransformer\n",
    "from sklearn.multiclass import OneVsRestClassifier\n",
    "from sklearn.preprocessing import MultiLabelBinarizer\n",
    "from sklearn.metrics import jaccard_similarity_score\n",
    "from sklearn.metrics import hamming_loss\n",
    "import csv\n",
    "import itertools\n",
    "from random import shuffle"
   ]
  },
  {
   "cell_type": "code",
   "execution_count": 2,
   "metadata": {
    "collapsed": false
   },
   "outputs": [
    {
     "name": "stdout",
     "output_type": "stream",
     "text": [
      "['XNxG2PBVMlI,Louis CK Calls Trump A Gross Crook Dirty Rotten Lying Sack Of,Louis CK regrets comparing Donald Trump to Hitler But hes not going to take it back Subscribe To The Late Show Channel HERE ,45101,5348,,Corden,letterman,The Late Show,Colbert,celeb,comedian,impressions,funny,CBS,skits,david letterman,Important,Late Show,hollywood,comedy,James Corden,celebrities,funny video,Late Late Show,bit,late night,joke,celebrity,talk show,funny videos,jokes,The Late Late Show,Stephen Colbert,monologue\\r\\n', 'L80Ua3Nh-4Y,Spicer reads to kids at the Easter Egg Roll,Press secretary Sean Spicer read the book How To Catch The Easter Bunny to a group of kids at the White House Easter Egg Roll,119,129,,CNN,News,default,CNN TV,CNN Newsroom\\r\\n', 'N4bU1i-XAxE,Animal Adventure Park Giraffe Cam,VOTE TO NAME THE BABY WWWNAMEAPRILSCALFCOM TEXT ALERT SYSTEM NOW AVAILABLE wwwAprilthegiraffecom Animal Adventure Park ,81758,10621,,Harpursville,giraffe cam,Park,Zoo,Giraffe,Adventure,Animal,New York,Animal Adventure\\r\\n', 'ec5O2QBsKSY,Learn Colors with Wooden Hammer Educational Toys  Shapes  Colors Videos Collection,Learn Colors with Wooden Hammer Educational Toys  Shapes  Colors Videos Collection 0000  Learn Colors with Wooden Hammer Educational Toys 0242 ,0,0,,wooden educational toys,YouTube Editor,street vehicle toys\\r\\n', 'hw-pTll1M_I,CONSPIRACY THEORIES  SUBLIMINAL MESSAGES,New Podcast Episode iTunes httpsitunesapplecomuspodcastshaneandfriendsid658136421mt2 SoundCloud ,178113,1322,,marbles,shane,vlogs,Break,to,shanedawsontv,nigahiga,dawson,comedy,similar,jenna,iphone\\r\\n', 'QOjkhKbzAJg,All the times Theresa May refused to call a general election,Prime Minister Theresa May has called a snap general election on June 8  after almost 12 months of continually denying she would do so Get the latest ,117,35,,UK Newspaper,Daily News,World Events,Telegraph YouTube,World News,Telegraph,News,Video News\\r\\n', 'eLXHLRa37_g,WHAT CAN YOU CUT WITH PAPER,Part 2 httpswwwyoutubecomwatchvyXt6xcenHg0 Subscribe httpwwwyoutubecomcMisterHacker Google httpsgooglwK7DH9 What can you cut ,131483,9457,,cut with paper,10,life,wood,life hacks,paper,experiment,hack,TRIKCS,angle grinder,cut paper\\r\\n', 'ncerGtCHHBM,Trump on telling Chinese President Xi about Syria airstrikes,President Donald Trump on North Korea and his meeting with Chinas President Xi Jinping,316,71,,On Air,Maria Bartiromo,Fox Business,Strange,Apple News,Mornings With Maria,Special,Personality\\r\\n', '1wgscG7F6rI,Jared Kushner Chief White House Nepotism Beneficiary,Senior White House advisor Jared Kushners family tree is in full bloom which explains the constant shadiness Subscribe To The Late Show Channel HERE ,20121,958,,Corden,letterman,The Late Show,Colbert,celeb,comedian,impressions,funny,CBS,skits,david letterman,Important,Late Show,hollywood,comedy,James Corden,celebrities,funny video,Late Late Show,bit,late night,joke,celebrity,talk show,funny videos,jokes,The Late Late Show,Stephen Colbert,monologue\\r\\n', '_LtYLifydOY,Official Miscommunicated US armada location,A senior administration official blamed a miscommunication between the Pentagon and the White House over reports that the USS Carl Vinson aircraft carrier ,182,165,,CNN TV,default,CNN,News,CNN Newsroom,Situation Room\\r\\n', 'MgDX4mCFSlE,The White House Easter Bunny Said it All,James catches up on the headlines including the White House Easter Egg Roll another United Airlines snafu and the passing of the oldest person in the world,3834,130,,carpool,celebrities,celeb,comedian,impressions,funny,CBS,Corden,Important,hollywood,comedy,late night show,James Corden,Colbert,funny video,Late Late Show,karaoke,late night,joke,celebrity,funny videos,jokes,The Late Late Show,Stephen Colbert,monologue\\r\\n', 'uakTRW1-eDw,TRYING DUMB DIYS  MAGNETIC SLIME EDIBLE PHONE CASE BATH BOMB,New Podcast Episode iTunes httpsitunesapplecomuspodcastshaneandfriendsid658136421mt2 SoundCloud ,106884,770,,marbles,shane,vlogs,Break,to,shanedawsontv,nigahiga,dawson,comedy,similar,jenna,iphone\\r\\n', 'rZn5VHqFh1o,Sanford on prospect of 2020 White House run,Mark Sanford dismisses the prospect of a 2020 presidential run in an interview with Dana Bash,30,39,,CNN TV,default,State of the Union,CNN,News,CNN Newsroom\\r\\n', 'SR8kidG7WQ8,Election will give Theresa May a Brexit mandate,The Telegraphs Asa Bennett claims that by winning this snap election Theresa May will have an unimpeachable mandate for Brexit Get the latest headlines ,14,0,,UK Newspaper,Daily News,World Events,Telegraph YouTube,World News,Telegraph,News,Video News\\r\\n', 'JsM2iTbS7eE,If Youre Watching This Thermonuclear War Hasnt Wiped Out Humanity,Stephens Tuesday monologue was taped in front of a live for now studio audience Subscribe To The Late Show Channel HERE httpbitlyColbertYouTube ,31472,1335,,Corden,letterman,The Late Show,Colbert,celeb,comedian,impressions,funny,CBS,skits,david letterman,Important,Late Show,hollywood,comedy,James Corden,celebrities,funny video,Late Late Show,bit,late night,joke,celebrity,talk show,funny videos,jokes,The Late Late Show,Stephen Colbert,monologue\\r\\n', 'KFZ2beG-x6k,TRYING DUMB DIYS  FLUFFY SLIME CANDY MAKEUP UNICORN MILKSHAKE,New Podcast Episode iTunes httpsitunesapplecomuspodcastshaneandfriendsid658136421mt2 SoundCloud ,132865,709,,marbles,shane,vlogs,Break,to,shanedawsontv,nigahiga,dawson,comedy,similar,jenna,iphone\\r\\n', 'EAOeAabo-SQ,Full interview Sen Dick Durbin,Assistant Democratic Leader Dick Durbin joins Dana Bash to discuss the a possible government shutdown the Supreme Court and more,28,9,,CNN TV,default,State of the Union,CNN,News,CNN Newsroom\\r\\n', 'dz_errIBq3Y,Animal Adventure Parks April the Giraffe  Live Birth  Archive footage,In case you missed it heres the recorded footage of April giving birth to her baby boy While this is the footage of the entire labor process you can skip closer to ,73252,3857,,Harpursville,giraffe cam,Park,Zoo,Giraffe,Adventure,Animal,New York,Animal Adventure\\r\\n', 'hNvAk53eRJI,Kelly issues nuclear missile prediction,DHS Secretary John Kelly warns that North Korea could put a nuclear weapon on a missile that could reach the US before President Trumps second term in ,61,28,,CNN TV,default,State of the Union,CNN,News,CNN Newsroom\\r\\n', 'KvFKfavJdcI,Cleveland murder suspect found dead,The man who is suspected of killing another man and uploading the video to Facebook Steve Stephens has been found dead according to police,317,64,,CNN,News,default,CNN TV,CNN Newsroom\\r\\n', 'ZyMYXkMuH3w,safariLIVE  Sunset Safari  Apr 18 2017,Jump on the back and join a LIVE African Safari Twice a day our expert guides invite you to come along and drive through the African bush in search of the Big ,294,14,,African Elephant Animal ,Safari Industry ,Djuma Game Reserve Location ,Livestream Website ,Kruger National Park Protected Site ,Leopard Animal ,Lion Animal ,Wildlife Film Subject ,Giraffe Animal \\r\\n', 'Ae80m8Efk7M,Russia vetoes UN Syrian resolution,Russia vetoes the United Nations resolution requiring Syria to cooperate with investigators after a brutal chemical attack,147,67,,CNN,News,default,CNN TV,CNN Newsroom\\r\\n', 'zUQJX1jkZGE,Learn Colors with Wodden Hammer Educational Toys  Colors Videos Collection for Children,Learn Colors with Wooden Hammer Educational Toys  Colors Videos Collection for Children 0000  Learning Colors Street Vehicles Names and Sounds for ,0,0,,wooden educational toys,YouTube Editor,street vehicle toys\\r\\n', 'lWnrnCg6xGc,Police Ohio murder suspect killed himself,Steve Stephens the Cleveland murder suspect who posted video of the slaying on Facebook killed himself in Pennsylvania after a police chase officers said ,428,73,,CNN TV,default,CNN,News,CNN Newsroom,Situation Room\\r\\n', '4EOrflNS6Wg,Syrian Chemical Attack The Sequel,The more things change the more they stay the same InfoWars takes a look back at the first chemical attack in Syria in 2013 and compares it to the latest attack ,1467,137,,9 11,Prisonplanet,WW3,Nuclear,Obamacare,CIA,MSM,CPS,Alternative Media,War,Benghazi,Police State,Putin,HillaryForPrison,NSA,Inauguration,Hillary,NATO,Fact,News,NWO,Infowars,Martial Law,RealAlexJones,Snowden,IRS,Elections,Wikileaks,EU,Russia,Al Qaeda,John Kerry,False,Trump,Hack,Hillary Clinton,Alex Jones,Nightly News,Lies,Donald,UN,Election,Drones,Check\\r\\n', 'Gkk0o0hJPnM,Steve Bannon That Was A Total Cuck Move,Its inappropriate that the Presidents Cabinet has resorted to lewd namecalling Thats supposed to be Trumps thing Subscribe To The Late Show Channel ,14634,1142,,Corden,letterman,The Late Show,Colbert,celeb,comedian,impressions,funny,CBS,skits,david letterman,Important,Late Show,hollywood,comedy,James Corden,celebrities,funny video,Late Late Show,bit,late night,joke,celebrity,talk show,funny videos,jokes,The Late Late Show,Stephen Colbert,monologue\\r\\n', 'Xs1sMqpc1oM,Stephen Curry Has a New Life Coach,James Corden heads to Northern California to spend time with Golden State Warriors star Stephen Curry and the two play some mini golf and take a ride in the ,114663,1943,,carpool,celebrities,celeb,comedian,impressions,funny,CBS,Corden,Important,hollywood,comedy,late night show,James Corden,Colbert,funny video,Late Late Show,karaoke,late night,joke,celebrity,funny videos,jokes,The Late Late Show,Stephen Colbert,monologue\\r\\n', 'OvGsR2n8nwc,safariLIVE  Sunrise Safari  Apr 18 2017,Jump on the back and join a LIVE African Safari Twice a day our expert guides invite you to come along and drive through the African bush in search of the Big ,245,8,,African Elephant Animal ,Safari Industry ,Djuma Game Reserve Location ,Livestream Website ,Kruger National Park Protected Site ,Leopard Animal ,Lion Animal ,Wildlife Film Subject ,Giraffe Animal \\r\\n', 'CM_e7q3U_Vo,safariLIVE  Sunrise Safari  Apr 10 2017,Jump on the back and join a LIVE African Safari Twice a day our expert guides invite you to come along and drive through the African bush in search of the Big ,244,9,,African Elephant Animal ,Safari Industry ,Djuma Game Reserve Location ,Livestream Website ,Kruger National Park Protected Site ,Leopard Animal ,Lion Animal ,Wildlife Film Subject ,Giraffe Animal \\r\\n']\n"
     ]
    }
   ],
   "source": [
    "# Random shuffle of data\n",
    "\n",
    "link='preprocessed_data.csv'\n",
    "\n",
    "with open(link, newline='', encoding='utf8') as f:\n",
    "    data = f.readlines()\n",
    "\n",
    "header = data[0]\n",
    "rest = data[1:]\n",
    "shuffle(rest)\n",
    "\n",
    "temp_link='temp_preprocessed_data.csv'\n",
    "\n",
    "print(rest)\n",
    "\n",
    "with open(temp_link, 'w') as out:\n",
    "    #out.writelines(data)\n",
    "    out.write(''.join([header]+rest))"
   ]
  },
  {
   "cell_type": "code",
   "execution_count": 3,
   "metadata": {
    "collapsed": false
   },
   "outputs": [],
   "source": [
    "# Removing empty rows\n",
    "\n",
    "shuffle_link='shuffled_preprocessed_data.csv'\n",
    "\n",
    "input1 = open(temp_link, 'r')\n",
    "output1 = open(shuffle_link, 'w')\n",
    "\n",
    "reader = csv.reader(input1)\n",
    "writer = csv.writer(output1)\n",
    "\n",
    "for line in input1.readlines():\n",
    "    if line.strip()=='':\n",
    "        continue\n",
    "    output1.write(line)\n",
    "\n",
    "input1.close()\n",
    "output1.close()"
   ]
  },
  {
   "cell_type": "code",
   "execution_count": 4,
   "metadata": {
    "collapsed": false
   },
   "outputs": [
    {
     "name": "stdout",
     "output_type": "stream",
     "text": [
      "21\n",
      "8\n"
     ]
    }
   ],
   "source": [
    "# Splitting data into training and testing sets\n",
    "\n",
    "link='shuffled_preprocessed_data.csv'\n",
    "\n",
    "input1 = open(link, 'r')\n",
    "\n",
    "lines = itertools.islice(input1,1,None)\n",
    "reader = csv.reader(lines)\n",
    "\n",
    "full_len = len(list(reader))\n",
    "thres = int((full_len*3)/4)\n",
    "\n",
    "print(thres)\n",
    "\n",
    "input1.close()\n",
    "              \n",
    "with open(link, newline='', encoding='utf8') as f:\n",
    "    cnt=0\n",
    "    X_arr=[]\n",
    "    X_test_arr=[]\n",
    "    \n",
    "    y_train_text=[]\n",
    "    Y_test=[]\n",
    "    \n",
    "    lines = itertools.islice(f,1,None)\n",
    "    reader = csv.reader(lines)\n",
    "    \n",
    "    for row in reader:\n",
    "        if(cnt<thres):\n",
    "            X_arr.append(row[1]+', '+row[2])\n",
    "            list1=[]\n",
    "            for i in range(6,len(row)):\n",
    "                list1.append(row[i])\n",
    "                \n",
    "            y_train_text.append(list1)\n",
    "        else:\n",
    "            X_test_arr.append(row[1]+', '+row[2])\n",
    "            list1=[]\n",
    "            for i in range(6,len(row)):\n",
    "                list1.append(row[i])\n",
    "            Y_test.append(list1)\n",
    "        \n",
    "        cnt=cnt+1\n",
    "        \n",
    "    X_train = np.array(X_arr)\n",
    "    X_test = np.array(X_test_arr)\n",
    "    print(len(Y_test))"
   ]
  },
  {
   "cell_type": "code",
   "execution_count": 5,
   "metadata": {
    "collapsed": false
   },
   "outputs": [],
   "source": [
    "mlb = MultiLabelBinarizer()\n",
    "Y = mlb.fit_transform(y_train_text)"
   ]
  },
  {
   "cell_type": "code",
   "execution_count": 6,
   "metadata": {
    "collapsed": true
   },
   "outputs": [],
   "source": [
    "classifier = Pipeline([\n",
    "    ('vectorizer', CountVectorizer()),\n",
    "    ('tfidf', TfidfTransformer()),\n",
    "    ('clf', OneVsRestClassifier(LinearSVC()))])"
   ]
  },
  {
   "cell_type": "code",
   "execution_count": 7,
   "metadata": {
    "collapsed": false
   },
   "outputs": [
    {
     "data": {
      "text/plain": [
       "Pipeline(steps=[('vectorizer', CountVectorizer(analyzer='word', binary=False, decode_error='strict',\n",
       "        dtype=<class 'numpy.int64'>, encoding='utf-8', input='content',\n",
       "        lowercase=True, max_df=1.0, max_features=None, min_df=1,\n",
       "        ngram_range=(1, 1), preprocessor=None, stop_words=None,\n",
       "       ...lti_class='ovr', penalty='l2', random_state=None, tol=0.0001,\n",
       "     verbose=0),\n",
       "          n_jobs=1))])"
      ]
     },
     "execution_count": 7,
     "metadata": {},
     "output_type": "execute_result"
    }
   ],
   "source": [
    "classifier.fit(X_train, Y)"
   ]
  },
  {
   "cell_type": "code",
   "execution_count": 8,
   "metadata": {
    "collapsed": false,
    "scrolled": true
   },
   "outputs": [],
   "source": [
    "predicted = classifier.predict(X_test)\n",
    "#print(predicted)"
   ]
  },
  {
   "cell_type": "code",
   "execution_count": 9,
   "metadata": {
    "collapsed": false
   },
   "outputs": [],
   "source": [
    "text_labels = mlb.inverse_transform(predicted)"
   ]
  },
  {
   "cell_type": "code",
   "execution_count": 10,
   "metadata": {
    "collapsed": false,
    "scrolled": true
   },
   "outputs": [
    {
     "name": "stdout",
     "output_type": "stream",
     "text": [
      "()\n",
      "('YouTube Editor', 'street vehicle toys', 'wooden educational toys')\n",
      "('CNN', 'CNN Newsroom', 'CNN TV', 'News', 'default')\n",
      "()\n",
      "()\n",
      "()\n",
      "('African Elephant Animal ', 'Djuma Game Reserve Location ', 'Giraffe Animal ', 'Kruger National Park Protected Site ', 'Leopard Animal ', 'Lion Animal ', 'Livestream Website ', 'Safari Industry ', 'Wildlife Film Subject ')\n",
      "('African Elephant Animal ', 'Djuma Game Reserve Location ', 'Giraffe Animal ', 'Kruger National Park Protected Site ', 'Leopard Animal ', 'Lion Animal ', 'Livestream Website ', 'Safari Industry ', 'Wildlife Film Subject ')\n",
      "4\n"
     ]
    },
    {
     "data": {
      "text/plain": [
       "\"\\ntest_predicted_data=[]\\nfor actual_text, predict_labels in zip(predicted, text_labels):\\n    #print('{0} => {1}'.format(actual_text, ', '.join(predict_labels)))\\n    #print(actual_text)\\n    if predict_labels:\\n        cnt_none+=1\\n        test_predicted_data.append(actual_text)\\n#print(test_predicted_data[0])\\n\""
      ]
     },
     "execution_count": 10,
     "metadata": {},
     "output_type": "execute_result"
    }
   ],
   "source": [
    "'''\n",
    "train_data=[]\n",
    "for test_text, predict_labels in zip(X_test, text_labels):\n",
    "    #print('{0} => {1}'.format(test_text, ', '.join(predict_labels)))\n",
    "    #if(predict_labels!=''):\n",
    "    if predict_labels:\n",
    "        train_data.append(test_text)\n",
    "#print(len(train_data))\n",
    "'''\n",
    "\n",
    "# Storing all the predicted labels\n",
    "\n",
    "test_data=[]\n",
    "all_predicted_labels=[]\n",
    "#temp_list=[]\n",
    "\n",
    "for actual_text, predict_labels in zip(Y_test, text_labels):\n",
    "    #print('{0} => {1}'.format(actual_text, ', '.join(predict_labels)))\n",
    "    print(predict_labels)\n",
    "    \n",
    "    all_predicted_labels.append(predict_labels)\n",
    "    \n",
    "    if predict_labels:\n",
    "        #print(predict_labels)\n",
    "        #cnt_none+=1\n",
    "        test_data.append(actual_text)\n",
    "print(len(test_data))\n",
    "\n",
    "'''\n",
    "test_predicted_data=[]\n",
    "for actual_text, predict_labels in zip(predicted, text_labels):\n",
    "    #print('{0} => {1}'.format(actual_text, ', '.join(predict_labels)))\n",
    "    #print(actual_text)\n",
    "    if predict_labels:\n",
    "        cnt_none+=1\n",
    "        test_predicted_data.append(actual_text)\n",
    "#print(test_predicted_data[0])\n",
    "'''"
   ]
  },
  {
   "cell_type": "code",
   "execution_count": 11,
   "metadata": {
    "collapsed": false
   },
   "outputs": [],
   "source": [
    "Y_new = mlb.fit_transform(Y_test)\n",
    "#print(Y_new)\n",
    "#Y_new = mlb.fit_transform(test_data)"
   ]
  },
  {
   "cell_type": "code",
   "execution_count": 12,
   "metadata": {
    "collapsed": false
   },
   "outputs": [
    {
     "name": "stdout",
     "output_type": "stream",
     "text": [
      "[['Id', 'Title', 'Description', 'LikeCount', 'DislikeCount', 'Location (latitude, longitude)', 'Condensed Tags (comma delimited string)'], ['Ae80m8Efk7M', 'Russia vetoes UN Syrian resolution', 'Russia vetoes the United Nations resolution requiring Syria to cooperate with investigators after a brutal chemical attack', '147', '67', ''], ['zUQJX1jkZGE', 'Learn Colors with Wodden Hammer Educational Toys  Colors Videos Collection for Children', 'Learn Colors with Wooden Hammer Educational Toys  Colors Videos Collection for Children 0000  Learning Colors Street Vehicles Names and Sounds for ', '0', '0', '', 'YouTube Editor', 'street vehicle toys', 'wooden educational toys'], ['lWnrnCg6xGc', 'Police Ohio murder suspect killed himself', 'Steve Stephens the Cleveland murder suspect who posted video of the slaying on Facebook killed himself in Pennsylvania after a police chase officers said ', '428', '73', '', 'CNN', 'CNN Newsroom', 'CNN TV', 'News', 'default'], ['4EOrflNS6Wg', 'Syrian Chemical Attack The Sequel', 'The more things change the more they stay the same InfoWars takes a look back at the first chemical attack in Syria in 2013 and compares it to the latest attack ', '1467', '137', ''], ['Gkk0o0hJPnM', 'Steve Bannon That Was A Total Cuck Move', 'Its inappropriate that the Presidents Cabinet has resorted to lewd namecalling Thats supposed to be Trumps thing Subscribe To The Late Show Channel ', '14634', '1142', ''], ['Xs1sMqpc1oM', 'Stephen Curry Has a New Life Coach', 'James Corden heads to Northern California to spend time with Golden State Warriors star Stephen Curry and the two play some mini golf and take a ride in the ', '114663', '1943', ''], ['OvGsR2n8nwc', 'safariLIVE  Sunrise Safari  Apr 18 2017', 'Jump on the back and join a LIVE African Safari Twice a day our expert guides invite you to come along and drive through the African bush in search of the Big ', '245', '8', '', 'African Elephant Animal ', 'Djuma Game Reserve Location ', 'Giraffe Animal ', 'Kruger National Park Protected Site ', 'Leopard Animal ', 'Lion Animal ', 'Livestream Website ', 'Safari Industry ', 'Wildlife Film Subject '], ['CM_e7q3U_Vo', 'safariLIVE  Sunrise Safari  Apr 10 2017', 'Jump on the back and join a LIVE African Safari Twice a day our expert guides invite you to come along and drive through the African bush in search of the Big ', '244', '9', '', 'African Elephant Animal ', 'Djuma Game Reserve Location ', 'Giraffe Animal ', 'Kruger National Park Protected Site ', 'Leopard Animal ', 'Lion Animal ', 'Livestream Website ', 'Safari Industry ', 'Wildlife Film Subject ']]\n"
     ]
    }
   ],
   "source": [
    "read_link='shuffled_preprocessed_data.csv'\n",
    "\n",
    "# Header\n",
    "list1=['Id', 'Title', 'Description', 'LikeCount', 'DislikeCount', 'Location (latitude, longitude)', 'Condensed Tags (comma delimited string)']\n",
    "tot_list=[]\n",
    "tot_list.append(list1)\n",
    "\n",
    "with open(read_link, newline='', encoding='utf8') as f:\n",
    "    lines = itertools.islice(f,1+thres,None)\n",
    "    reader = csv.reader(lines)\n",
    "    \n",
    "    row_num=0\n",
    "    for row in reader:\n",
    "        list2=[]\n",
    "        for i in range(0,6):\n",
    "            list2.append(row[i])\n",
    "        list2.extend(all_predicted_labels[row_num])\n",
    "        tot_list.append(list2)\n",
    "        row_num+=1\n",
    "    print(tot_list)"
   ]
  },
  {
   "cell_type": "code",
   "execution_count": 13,
   "metadata": {
    "collapsed": true
   },
   "outputs": [],
   "source": [
    "# Writing to file the predicted labels\n",
    "\n",
    "write_link='predicted_data.csv'\n",
    "\n",
    "with open(write_link, 'w', newline='') as f:\n",
    "    writer = csv.writer(f)\n",
    "    writer.writerows(tot_list)"
   ]
  },
  {
   "cell_type": "code",
   "execution_count": 14,
   "metadata": {
    "collapsed": false
   },
   "outputs": [],
   "source": [
    "#print(\"Accuracy = \" + str(1-hamming_loss(np.array(predicted),np.array(Y_new))))\n",
    "#print(\"Accuracy = \" + str(1-hamming_loss(np.array(test_predicted_data),np.array(Y_new))))\n",
    "#print(len(predicted[0]))\n",
    "#print(len(Y_new[0]))"
   ]
  },
  {
   "cell_type": "code",
   "execution_count": 15,
   "metadata": {
    "collapsed": false
   },
   "outputs": [],
   "source": [
    "#acc = classifier.score(X_test,Y_new)"
   ]
  },
  {
   "cell_type": "code",
   "execution_count": 16,
   "metadata": {
    "collapsed": false
   },
   "outputs": [],
   "source": [
    "acc=0\n",
    "for i in range(0,len(Y_test)):\n",
    "    acc+=(len(set(Y_test[i]) & set(text_labels[i])))/(len(set(Y_test[i])))"
   ]
  },
  {
   "cell_type": "code",
   "execution_count": 17,
   "metadata": {
    "collapsed": false
   },
   "outputs": [
    {
     "name": "stdout",
     "output_type": "stream",
     "text": [
      "3.8333333333333335\n"
     ]
    }
   ],
   "source": [
    "print(acc)\n",
    "real_acc=acc/len(Y_test)\n",
    "curr_acc=acc/len(test_data)"
   ]
  },
  {
   "cell_type": "code",
   "execution_count": 18,
   "metadata": {
    "collapsed": false
   },
   "outputs": [
    {
     "name": "stdout",
     "output_type": "stream",
     "text": [
      "0.4791666666666667\n",
      "0.9583333333333334\n"
     ]
    }
   ],
   "source": [
    "# Accuracy measures\n",
    "\n",
    "# First accuracy is the actual accuracy of all labels\n",
    "\n",
    "# Second accuracy is only for the those labels \n",
    "# which rendered at least one label as output\n",
    "\n",
    "print(real_acc)\n",
    "print(curr_acc)"
   ]
  }
 ],
 "metadata": {
  "kernelspec": {
   "display_name": "Python 3",
   "language": "python",
   "name": "python3"
  },
  "language_info": {
   "codemirror_mode": {
    "name": "ipython",
    "version": 3
   },
   "file_extension": ".py",
   "mimetype": "text/x-python",
   "name": "python",
   "nbconvert_exporter": "python",
   "pygments_lexer": "ipython3",
   "version": "3.6.0"
  }
 },
 "nbformat": 4,
 "nbformat_minor": 2
}
